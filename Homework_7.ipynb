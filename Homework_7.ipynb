{
 "cells": [
  {
   "cell_type": "code",
   "execution_count": 18,
   "metadata": {
    "collapsed": false
   },
   "outputs": [],
   "source": [
    "import re\n",
    "import pandas \n",
    "import csv\n",
    "from selenium import webdriver\n",
    "from selenium.webdriver.support.ui import Select\n",
    "from time import*\n",
    "browser = webdriver.Chrome()\n",
    "url = \"http://rate.am/en/armenian-dram-exchange-rates/banks/non-cash\"\n",
    "browser.get(url)\n",
    "all_data=browser.find_element_by_xpath('//*[@id=\"aspnetForm\"]/div[3]/div[2]/div[1]/div[4]/div[3]/table/tbody/tr/td[1]/a')\n",
    "all_data.click()"
   ]
  },
  {
   "cell_type": "code",
   "execution_count": 6,
   "metadata": {
    "collapsed": false
   },
   "outputs": [],
   "source": [
    "x = browser.find_element_by_xpath('//*[@id=\"calBorder\"]/span/table/tbody/tr[1]/td/table/tbody/tr/td[2]/select')\n",
    "sy = Select(x)\n",
    "sy.select_by_visible_text('2016')"
   ]
  },
  {
   "cell_type": "code",
   "execution_count": 11,
   "metadata": {
    "collapsed": false
   },
   "outputs": [],
   "source": [
    "mounth = browser.find_element_by_xpath('//*[@id=\"calBorder\"]/span/table/tbody/tr[1]/td/table/tbody/tr/td[1]/select')\n",
    "sm = Select(mounth)\n",
    "sm.select_by_visible_text('July')\n",
    "y=browser.find_element_by_xpath('//*[@id=\"calBorder\"]/span/table/tbody/tr[3]/td/table/tbody/tr[5]/td[3]')\n",
    "y.click()\n",
    "y_1=browser.find_element_by_xpath('//*[@id=\"ctl00_Content_RB_dtpick1_btnOk\"]')\n",
    "y_1.click()"
   ]
  },
  {
   "cell_type": "code",
   "execution_count": 13,
   "metadata": {
    "collapsed": false
   },
   "outputs": [
    {
     "name": "stdout",
     "output_type": "stream",
     "text": [
      "                      name           date USD_buy USD_sell EUR_buy  EUR_sell  \\\n",
      "2              Անելիք Բանկ  19 Jul, 20:00  476.50      480     546    556.00   \n",
      "3             Կոնվերս բանկ  19 Jul, 20:00  476.50      480     548    556.00   \n",
      "4               Ամերիաբանկ  19 Jul, 20:00     476      480  547.50    555.50   \n",
      "5                Արցախբանկ  19 Jul, 20:00  476.50      480     547    555.00   \n",
      "6                Յունիբանկ  19 Jul, 20:00  476.50      480     547    557.00   \n",
      "7            ՀԱՅԷԿՈՆՈՄԲԱՆԿ  19 Jul, 20:00  476.50      480     547    555.00   \n",
      "8        ՎՏԲ-Հայաստան Բանկ  19 Jul, 20:00  477.25      480     548    554.50   \n",
      "9            Պրոմեթեյ Բանկ  19 Jul, 20:00     477      480     548    555.00   \n",
      "10               Ինեկոբանկ  19 Jul, 20:00     477      480     546    554.75   \n",
      "11             Մելլաթ բանկ  19 Jul, 20:00     476      480     548    556.00   \n",
      "12       Էյչ-Էս-Բի-Սի Բանկ  19 Jul, 20:00     476      480  547.50    555.50   \n",
      "13       ՀԱՅԲԻԶՆԵՍԲԱՆԿ ՓԲԸ  19 Jul, 20:00     477      480  548.10    556.10   \n",
      "14     Բիբլոս Բանկ Արմենիա  19 Jul, 20:00  476.50      480     547    556.00   \n",
      "15  ԱԿԲԱ-ԿՐԵԴԻՏ ԱԳՐԻԿՈԼ ..  19 Jul, 20:00  476.50      480  547.50    555.50   \n",
      "16             Արմսվիսբանկ  19 Jul, 20:00     477      480     548    554.00   \n",
      "17              Արդշինբանկ  19 Jul, 20:00  477.50      480     547    557.00   \n",
      "18              ԱՐԱՐԱՏԲԱՆԿ  19 Jul, 20:00  477.50      480     543    560.00   \n",
      "\n",
      "    RUB_buy  RUB_sell  GBP_buy  GBP_sell  \n",
      "2      8.00      8.18      NaN       NaN  \n",
      "3      8.00      8.19    619.0     627.0  \n",
      "4      7.97      8.22    618.5     628.5  \n",
      "5      8.00      8.20    616.0     631.0  \n",
      "6      8.00      8.20    613.0     633.0  \n",
      "7      8.05      8.20    615.0     633.0  \n",
      "8      8.06      8.18    620.0     631.0  \n",
      "9      8.06      8.16    618.0     628.0  \n",
      "10     7.96      8.18    616.0     628.0  \n",
      "11      NaN       NaN      NaN       NaN  \n",
      "12     7.96      8.20    618.5     627.5  \n",
      "13     8.00      8.22    618.1     630.1  \n",
      "14     7.96      8.21    618.0     629.0  \n",
      "15     8.05      8.18    616.0     631.0  \n",
      "16     8.03      8.21    619.0     626.0  \n",
      "17     7.95      8.20    618.0     633.0  \n",
      "18     8.03      8.25    612.0     634.0  \n"
     ]
    }
   ],
   "source": [
    "data = pandas.read_html(browser.find_element_by_class_name(\"rb\").get_attribute('outerHTML'))\n",
    "data = data[0]\n",
    "data = data[2:19]\n",
    "del data[0]\n",
    "del data[2]\n",
    "del data[3]\n",
    "data.columns = [\"name\", \"date\", \"USD_buy\", \"USD_sell\", \"EUR_buy\", \"EUR_sell\", \"RUB_buy\", \"RUB_sell\", \"GBP_buy\", \"GBP_sell\"]\n",
    "from unicodecsv import*\n",
    "with open('rates_1.csv', 'w') as f:\n",
    "            data.to_csv(f, header=True, index=False, encoding='utf-8')\n",
    "print(data)        "
   ]
  },
  {
   "cell_type": "code",
   "execution_count": 14,
   "metadata": {
    "collapsed": true
   },
   "outputs": [],
   "source": [
    "url_1 = \"https://staff.am/en\"\n",
    "browser.get(url_1)"
   ]
  },
  {
   "cell_type": "code",
   "execution_count": 16,
   "metadata": {
    "collapsed": true
   },
   "outputs": [],
   "source": [
    "from BeautifulSoup import *\n",
    "x_1=browser.find_element_by_xpath('//*[@id=\"menu-header\"]/li[2]/a')\n",
    "x_1.click()\n",
    "soup = browser.page_source\n",
    "page_2 = browser.find_element_by_xpath('//*[@id=\"job-list-pagination\"]/ul/li[3]/a')\n",
    "page_2.click()\n",
    "soup_1=browser.page_source\n",
    "page_3 = browser.find_element_by_xpath('//*[@id=\"job-list-pagination\"]/ul/li[4]/a')\n",
    "page_3.click()\n",
    "soup_2=browser.page_source\n",
    "browser.close()"
   ]
  },
  {
   "cell_type": "code",
   "execution_count": 17,
   "metadata": {
    "collapsed": true
   },
   "outputs": [],
   "source": [
    "x_1=[]\n",
    "soups=[soup,soup_1,soup_2]\n",
    "for i in soups:\n",
    "    soup = BeautifulSoup(i)\n",
    "    titls=soup.findAll('div',attrs={'class':\"job-inner training-item-title\"})    \n",
    "    for i in titls:\n",
    "        if i.find('span')==None:\n",
    "            x_1.append(i.find('h4').text +\" - \" +i.find('p').text + \"- \"+ \"0 AMD\")\n",
    "        else:\n",
    "            x_1.append(i.find('h4').text +\" - \" +i.find('p').text + \"- \"+ i.find('span').text + \" AMD\")"
   ]
  },
  {
   "cell_type": "code",
   "execution_count": 19,
   "metadata": {
    "collapsed": true
   },
   "outputs": [],
   "source": [
    "x_2=str(x_1)"
   ]
  },
  {
   "cell_type": "code",
   "execution_count": 23,
   "metadata": {
    "collapsed": false
   },
   "outputs": [],
   "source": [
    "x_3=re.sub(r',', r'',x_2)\n",
    "x_4=re.findall('-\\s([0-9]+)',x_3)"
   ]
  },
  {
   "cell_type": "code",
   "execution_count": 24,
   "metadata": {
    "collapsed": true
   },
   "outputs": [],
   "source": [
    "price=[]\n",
    "for i in x_4:\n",
    "    price.append(int(i))"
   ]
  },
  {
   "cell_type": "code",
   "execution_count": 25,
   "metadata": {
    "collapsed": false
   },
   "outputs": [
    {
     "name": "stdout",
     "output_type": "stream",
     "text": [
      "34795\n"
     ]
    }
   ],
   "source": [
    "\n",
    "av_price=sum(price)/len(price)\n",
    "print(av_price)"
   ]
  },
  {
   "cell_type": "code",
   "execution_count": 26,
   "metadata": {
    "collapsed": true
   },
   "outputs": [],
   "source": [
    "url_2 = \"https://www.cba.am/EN/SitePages/Default.aspx\"\n",
    "browser.get(url_2)"
   ]
  },
  {
   "cell_type": "code",
   "execution_count": 28,
   "metadata": {
    "collapsed": false
   },
   "outputs": [
    {
     "name": "stdout",
     "output_type": "stream",
     "text": [
      "478.85\n"
     ]
    }
   ],
   "source": [
    "usd=browser.find_element_by_xpath('//*[@id=\"ctl00_PlaceHolderMain_g_863d4f31_7343_4804_bedb_aa7f55c1305a_updatePanelctl00_PlaceHolderMain_g_863d4f31_7343_4804_bedb_aa7f55c1305a\"]/li[1]/em[3]')\n",
    "print(usd.text)"
   ]
  },
  {
   "cell_type": "code",
   "execution_count": null,
   "metadata": {
    "collapsed": true
   },
   "outputs": [],
   "source": []
  }
 ],
 "metadata": {
  "kernelspec": {
   "display_name": "Python 2",
   "language": "python",
   "name": "python2"
  },
  "language_info": {
   "codemirror_mode": {
    "name": "ipython",
    "version": 2
   },
   "file_extension": ".py",
   "mimetype": "text/x-python",
   "name": "python",
   "nbconvert_exporter": "python",
   "pygments_lexer": "ipython2",
   "version": "2.7.13"
  }
 },
 "nbformat": 4,
 "nbformat_minor": 2
}
